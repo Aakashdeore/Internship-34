{
 "cells": [
  {
   "cell_type": "markdown",
   "metadata": {},
   "source": [
    "Q11. Write a python function print pyramid of stars. Level of the pyramid should be taken as an input from the user. E.g.\n",
    "Input = 5\n",
    "Output:"
   ]
  },
  {
   "cell_type": "code",
   "execution_count": 1,
   "metadata": {},
   "outputs": [],
   "source": [
    "def print_pyramid(num):\n",
    "    for i in range(1, num+1):\n",
    "        print(' '*(num-i) + '*'*(2*i-1))\n",
    "        "
   ]
  },
  {
   "cell_type": "code",
   "execution_count": 2,
   "metadata": {},
   "outputs": [
    {
     "name": "stdout",
     "output_type": "stream",
     "text": [
      "    *\n",
      "   ***\n",
      "  *****\n",
      " *******\n",
      "*********\n"
     ]
    }
   ],
   "source": [
    "print_pyramid(5)"
   ]
  },
  {
   "cell_type": "markdown",
   "metadata": {},
   "source": [
    "Q12 Write a python function print Hourglass pattern.\n",
    "    input = 5"
   ]
  },
  {
   "cell_type": "code",
   "execution_count": 3,
   "metadata": {},
   "outputs": [],
   "source": [
    "def print_hourglass(num):\n",
    "    for i in range(num, 0, -1):\n",
    "        print(' '*(num-i) + '*'*(2*i-1))\n",
    "    for i in range(2, num+1):\n",
    "        print(' '*(num-i) + '*'*(2*i-1))"
   ]
  },
  {
   "cell_type": "code",
   "execution_count": 4,
   "metadata": {},
   "outputs": [
    {
     "name": "stdout",
     "output_type": "stream",
     "text": [
      "*********\n",
      " *******\n",
      "  *****\n",
      "   ***\n",
      "    *\n",
      "   ***\n",
      "  *****\n",
      " *******\n",
      "*********\n"
     ]
    }
   ],
   "source": [
    "print_hourglass(5)"
   ]
  },
  {
   "cell_type": "markdown",
   "metadata": {},
   "source": [
    "Q13 Write a python function to print Pascal’s Triangle. The number of levels in the triangle must be taken as input by the user. E.g.\n",
    "Input = 5"
   ]
  },
  {
   "cell_type": "code",
   "execution_count": 5,
   "metadata": {},
   "outputs": [],
   "source": [
    "def print_pascals_triangle(num):\n",
    "    triangle = [[1]]\n",
    "    for i in range(1, num):\n",
    "        row = [1]\n",
    "        for j in range(1, i):\n",
    "            row.append(triangle[i-1][j-1] + triangle[i-1][j])\n",
    "        row.append(1)\n",
    "        triangle.append(row)\n",
    "\n",
    "    for row in triangle:\n",
    "        print(' '.join(str(x) for x in row).center(num*3))"
   ]
  },
  {
   "cell_type": "code",
   "execution_count": 6,
   "metadata": {},
   "outputs": [
    {
     "name": "stdout",
     "output_type": "stream",
     "text": [
      "       1       \n",
      "      1 1      \n",
      "     1 2 1     \n",
      "    1 3 3 1    \n",
      "   1 4 6 4 1   \n"
     ]
    }
   ],
   "source": [
    "print_pascals_triangle(5)"
   ]
  },
  {
   "cell_type": "markdown",
   "metadata": {},
   "source": [
    "Q14. Write a python function to print Diamond Shaped Pattern shown below. Function must take integer input which represents the number of stars in the middle most line. E.g.:\n",
    "Input = 5"
   ]
  },
  {
   "cell_type": "code",
   "execution_count": 7,
   "metadata": {},
   "outputs": [],
   "source": [
    "def diamond_pattern(n):\n",
    "   \n",
    "    for i in range(n):\n",
    "        # Print spaces before the asterisks\n",
    "        print(\" \"*(n-i-1), end=\"\")\n",
    "        # Print the asterisks\n",
    "        print(\"*\"*(2*i+1))\n",
    "        \n",
    "    for i in range(n-2, -1, -1):\n",
    "        # Print spaces before the asterisks\n",
    "        print(\" \"*(n-i-1), end=\"\")\n",
    "        # Print the asterisks\n",
    "        print(\"*\"*(2*i+1))\n",
    "\n",
    "\n",
    "\n"
   ]
  },
  {
   "cell_type": "code",
   "execution_count": 8,
   "metadata": {},
   "outputs": [
    {
     "name": "stdout",
     "output_type": "stream",
     "text": [
      "    *\n",
      "   ***\n",
      "  *****\n",
      " *******\n",
      "*********\n",
      " *******\n",
      "  *****\n",
      "   ***\n",
      "    *\n"
     ]
    }
   ],
   "source": [
    "diamond_pattern(5)"
   ]
  },
  {
   "cell_type": "markdown",
   "metadata": {},
   "source": [
    "Q15 Write a python function to print Diamond Shaped Character Pattern shown below. Function must take integer input within range 1 to 26, which represents the rank of the alphabet. E.g.:\n",
    "Input = 5 "
   ]
  },
  {
   "cell_type": "code",
   "execution_count": 9,
   "metadata": {},
   "outputs": [],
   "source": [
    "def diamond_char_pattern(n):\n",
    "    \n",
    "    if n < 1 or n > 26:\n",
    "        print(\"Input integer must be between 1 and 26.\")\n",
    "        return\n",
    "    \n",
    "    # Calculate the starting letter and the number of spaces to print for each row\n",
    "    start_letter = ord('A') + n - 1\n",
    "    num_spaces = n - 1\n",
    "    \n",
    "    # Print the upper half of the diamond\n",
    "    for i in range(n):\n",
    "        # Print spaces before the characters\n",
    "        print(\" \"*num_spaces, end=\"\")\n",
    "        # Print the characters\n",
    "        for j in range(i+1):\n",
    "            print(chr(start_letter-j), end=\"\")\n",
    "            if j != i:\n",
    "                print(\" \", end=\"\")\n",
    "        print()\n",
    "        num_spaces -= 1\n",
    "    \n",
    "    # Print the lower half of the diamond\n",
    "    num_spaces = 1\n",
    "    for i in range(n-2, -1, -1):\n",
    "        # Print spaces before the characters\n",
    "        print(\" \"*num_spaces, end=\"\")\n",
    "        # Print the characters\n",
    "        for j in range(i+1):\n",
    "            print(chr(start_letter-j), end=\"\")\n",
    "            if j != i:\n",
    "                print(\" \", end=\"\")\n",
    "        print()\n",
    "        num_spaces += 1"
   ]
  },
  {
   "cell_type": "code",
   "execution_count": 10,
   "metadata": {},
   "outputs": [
    {
     "name": "stdout",
     "output_type": "stream",
     "text": [
      "    E\n",
      "   E D\n",
      "  E D C\n",
      " E D C B\n",
      "E D C B A\n",
      " E D C B\n",
      "  E D C\n",
      "   E D\n",
      "    E\n"
     ]
    }
   ],
   "source": [
    "diamond_char_pattern(5)"
   ]
  },
  {
   "cell_type": "code",
   "execution_count": null,
   "metadata": {},
   "outputs": [],
   "source": []
  }
 ],
 "metadata": {
  "kernelspec": {
   "display_name": "Python 3",
   "language": "python",
   "name": "python3"
  },
  "language_info": {
   "codemirror_mode": {
    "name": "ipython",
    "version": 3
   },
   "file_extension": ".py",
   "mimetype": "text/x-python",
   "name": "python",
   "nbconvert_exporter": "python",
   "pygments_lexer": "ipython3",
   "version": "3.7.6"
  }
 },
 "nbformat": 4,
 "nbformat_minor": 4
}
